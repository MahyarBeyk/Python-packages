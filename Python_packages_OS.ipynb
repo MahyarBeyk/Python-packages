{
  "cells": [
    {
      "cell_type": "markdown",
      "metadata": {
        "id": "axhCzEYWmNAZ"
      },
      "source": [
        "# OS Module (operating system)"
      ]
    },
    {
      "cell_type": "markdown",
      "metadata": {
        "id": "OjiI3QqimdR0"
      },
      "source": [
        "## Importing needed packages"
      ]
    },
    {
      "cell_type": "code",
      "execution_count": 1,
      "metadata": {
        "id": "3Uun2xacDWkd"
      },
      "outputs": [],
      "source": [
        "import os"
      ]
    },
    {
      "cell_type": "markdown",
      "source": [
        "## OS name"
      ],
      "metadata": {
        "id": "Kv75CR_y4Vbj"
      }
    },
    {
      "cell_type": "markdown",
      "source": [
        "This function gives the name of the operating system dependent module imported. The following names have currently been registered: ‘posix’, ‘nt’, ‘os2’, ‘ce’, ‘java’ and ‘riscos’."
      ],
      "metadata": {
        "id": "XtQ-78cy4jaC"
      }
    },
    {
      "cell_type": "code",
      "execution_count": 2,
      "metadata": {
        "id": "kJk7qmoeIYGQ",
        "colab": {
          "base_uri": "https://localhost:8080/",
          "height": 35
        },
        "outputId": "a8a2a07b-e356-4750-a731-ddcbe19454d1"
      },
      "outputs": [
        {
          "output_type": "execute_result",
          "data": {
            "text/plain": [
              "'posix'"
            ],
            "application/vnd.google.colaboratory.intrinsic+json": {
              "type": "string"
            }
          },
          "metadata": {},
          "execution_count": 2
        }
      ],
      "source": [
        "os.name # Output: ‘posix’, ‘nt’, ‘os2’, ‘ce’, ‘java’ and ‘riscos’."
      ]
    },
    {
      "cell_type": "markdown",
      "metadata": {
        "id": "9cSUSm5cmseP"
      },
      "source": [
        "## Current working directory"
      ]
    },
    {
      "cell_type": "code",
      "execution_count": 3,
      "metadata": {
        "colab": {
          "base_uri": "https://localhost:8080/"
        },
        "id": "04bIbeOymg3i",
        "outputId": "fd12661b-f98b-4929-b1e9-8314ddaf1f31"
      },
      "outputs": [
        {
          "output_type": "stream",
          "name": "stdout",
          "text": [
            "Current working directory: /content\n"
          ]
        }
      ],
      "source": [
        "cwd = os.getcwd()\n",
        "print(\"Current working directory:\", cwd)"
      ]
    },
    {
      "cell_type": "markdown",
      "metadata": {
        "id": "ZhEoK5uZnpwe"
      },
      "source": [
        "## Creating a Directory"
      ]
    },
    {
      "cell_type": "code",
      "execution_count": 4,
      "metadata": {
        "colab": {
          "base_uri": "https://localhost:8080/"
        },
        "id": "zYISE9e_nrPo",
        "outputId": "3ed15dcd-996a-4516-ded8-31830250fea2"
      },
      "outputs": [
        {
          "output_type": "stream",
          "name": "stdout",
          "text": [
            "Directory 'OS_python_test' created\n"
          ]
        }
      ],
      "source": [
        "parent_dir = os.getcwd()\n",
        "directory = 'OS_python_test'\n",
        "mode = 0o666 # For granting read and write permissions\n",
        "path = os.path.join(parent_dir, directory)\n",
        "os.mkdir(path,mode) # Or without mode\n",
        "print(\"Directory '% s' created\" % directory)"
      ]
    },
    {
      "cell_type": "markdown",
      "metadata": {
        "id": "9nM2USCbGSO-"
      },
      "source": [
        "## Creating a Series of Directories"
      ]
    },
    {
      "cell_type": "code",
      "execution_count": 5,
      "metadata": {
        "colab": {
          "base_uri": "https://localhost:8080/"
        },
        "id": "0l98mrfiGX6H",
        "outputId": "0837f3b1-e192-47e2-ee3d-4e78c8aafeef"
      },
      "outputs": [
        {
          "output_type": "stream",
          "name": "stdout",
          "text": [
            "Directory '{'/A/B/Final_Dir'}' created\n"
          ]
        }
      ],
      "source": [
        "parent_dir = os.getcwd()\n",
        "directory = 'Final_Dir'\n",
        "mode = 0o666 # For granting read and write permissions\n",
        "path = os.path.join(parent_dir+\"/A/B/\", directory)\n",
        "os.makedirs(path,mode) # Or without mode\n",
        "print(\"Directory '% s' created\" % {\"/A/B/\"+directory})"
      ]
    },
    {
      "cell_type": "markdown",
      "metadata": {
        "id": "diRTGUKtnMoS"
      },
      "source": [
        "## Changing working directory"
      ]
    },
    {
      "cell_type": "code",
      "execution_count": 6,
      "metadata": {
        "colab": {
          "base_uri": "https://localhost:8080/"
        },
        "id": "7CSxgIwImmwh",
        "outputId": "2fecaaba-4595-45d8-817d-a41b4c904828"
      },
      "outputs": [
        {
          "output_type": "stream",
          "name": "stdout",
          "text": [
            "New working directory: /content/OS_python_test\n"
          ]
        }
      ],
      "source": [
        "os.chdir(os.getcwd()+'/OS_python_test')\n",
        "print(\"New working directory:\", os.getcwd())"
      ]
    },
    {
      "cell_type": "markdown",
      "metadata": {
        "id": "d5QmFcxbHdIy"
      },
      "source": [
        "## Listing out Files and Directories"
      ]
    },
    {
      "cell_type": "code",
      "execution_count": 7,
      "metadata": {
        "colab": {
          "base_uri": "https://localhost:8080/"
        },
        "id": "eLF44RBwm2nw",
        "outputId": "e1dafdeb-6429-41d1-e2b8-46c319a9e6c1"
      },
      "outputs": [
        {
          "output_type": "stream",
          "name": "stdout",
          "text": [
            "Files and directories in ' / ' :\n",
            "['sys', 'lib', 'var', 'sbin', 'tmp', 'srv', 'dev', 'opt', 'etc', 'run', 'lib32', 'media', 'usr', 'proc', 'boot', 'lib64', 'mnt', 'home', 'root', 'bin', 'libx32', 'content', '.dockerenv', 'tools', 'datalab', 'python-apt', 'python-apt.tar.xz', 'NGC-DL-CONTAINER-LICENSE', 'cuda-keyring_1.0-1_all.deb']\n"
          ]
        }
      ],
      "source": [
        "path = \"/\"\n",
        "dir_list = os.listdir(path)\n",
        "print(\"Files and directories in '\", path, \"' :\")\n",
        "print(dir_list)"
      ]
    },
    {
      "cell_type": "markdown",
      "source": [
        "## Listing files and directories in the current directory in another way"
      ],
      "metadata": {
        "id": "1sxZcIPOEJCF"
      }
    },
    {
      "cell_type": "code",
      "source": [
        "files = os.listdir('.')\n",
        "print(files)"
      ],
      "metadata": {
        "colab": {
          "base_uri": "https://localhost:8080/"
        },
        "id": "bXi5FRgmEP2E",
        "outputId": "f4648f44-eee8-4e4f-a6a3-eca03b3ea343"
      },
      "execution_count": 8,
      "outputs": [
        {
          "output_type": "stream",
          "name": "stdout",
          "text": [
            "[]\n"
          ]
        }
      ]
    },
    {
      "cell_type": "markdown",
      "source": [
        "## OS Error"
      ],
      "metadata": {
        "id": "CYxa-Uwe48bj"
      }
    },
    {
      "cell_type": "markdown",
      "source": [
        "os.error is an alias for built-in OSError exception. This code reads the contents of a file named ‘GFG.txt’. It uses a ‘try…except‘ block to handle potential errors, particularly the ‘IOError‘ that may occur if there’s a problem reading the file. If an error occurs, it will print a message saying, “Problem reading: GFG.txt.”"
      ],
      "metadata": {
        "id": "BTW5ZLX14-0h"
      }
    },
    {
      "cell_type": "code",
      "execution_count": 9,
      "metadata": {
        "id": "WWq8AyaJIYbK",
        "colab": {
          "base_uri": "https://localhost:8080/"
        },
        "outputId": "026872e7-93ba-4a16-9cad-5cabb385b389"
      },
      "outputs": [
        {
          "output_type": "execute_result",
          "data": {
            "text/plain": [
              "OSError"
            ]
          },
          "metadata": {},
          "execution_count": 9
        }
      ],
      "source": [
        "os.error"
      ]
    },
    {
      "cell_type": "code",
      "source": [
        "import pandas as pd\n",
        "import numpy as np\n",
        "df = pd.DataFrame(np.array([[1,2,3],['a','b','c']]))\n",
        "df.to_csv('/content/OS_python_test/test_del.csv')\n",
        "df"
      ],
      "metadata": {
        "colab": {
          "base_uri": "https://localhost:8080/",
          "height": 112
        },
        "id": "JvGql6fJ2dQ_",
        "outputId": "5445558b-4373-46f9-fb6f-8f90b1af2428"
      },
      "execution_count": 10,
      "outputs": [
        {
          "output_type": "execute_result",
          "data": {
            "text/plain": [
              "   0  1  2\n",
              "0  1  2  3\n",
              "1  a  b  c"
            ],
            "text/html": [
              "\n",
              "  <div id=\"df-eae667d7-796e-446e-be2a-f451539ae495\" class=\"colab-df-container\">\n",
              "    <div>\n",
              "<style scoped>\n",
              "    .dataframe tbody tr th:only-of-type {\n",
              "        vertical-align: middle;\n",
              "    }\n",
              "\n",
              "    .dataframe tbody tr th {\n",
              "        vertical-align: top;\n",
              "    }\n",
              "\n",
              "    .dataframe thead th {\n",
              "        text-align: right;\n",
              "    }\n",
              "</style>\n",
              "<table border=\"1\" class=\"dataframe\">\n",
              "  <thead>\n",
              "    <tr style=\"text-align: right;\">\n",
              "      <th></th>\n",
              "      <th>0</th>\n",
              "      <th>1</th>\n",
              "      <th>2</th>\n",
              "    </tr>\n",
              "  </thead>\n",
              "  <tbody>\n",
              "    <tr>\n",
              "      <th>0</th>\n",
              "      <td>1</td>\n",
              "      <td>2</td>\n",
              "      <td>3</td>\n",
              "    </tr>\n",
              "    <tr>\n",
              "      <th>1</th>\n",
              "      <td>a</td>\n",
              "      <td>b</td>\n",
              "      <td>c</td>\n",
              "    </tr>\n",
              "  </tbody>\n",
              "</table>\n",
              "</div>\n",
              "    <div class=\"colab-df-buttons\">\n",
              "\n",
              "  <div class=\"colab-df-container\">\n",
              "    <button class=\"colab-df-convert\" onclick=\"convertToInteractive('df-eae667d7-796e-446e-be2a-f451539ae495')\"\n",
              "            title=\"Convert this dataframe to an interactive table.\"\n",
              "            style=\"display:none;\">\n",
              "\n",
              "  <svg xmlns=\"http://www.w3.org/2000/svg\" height=\"24px\" viewBox=\"0 -960 960 960\">\n",
              "    <path d=\"M120-120v-720h720v720H120Zm60-500h600v-160H180v160Zm220 220h160v-160H400v160Zm0 220h160v-160H400v160ZM180-400h160v-160H180v160Zm440 0h160v-160H620v160ZM180-180h160v-160H180v160Zm440 0h160v-160H620v160Z\"/>\n",
              "  </svg>\n",
              "    </button>\n",
              "\n",
              "  <style>\n",
              "    .colab-df-container {\n",
              "      display:flex;\n",
              "      gap: 12px;\n",
              "    }\n",
              "\n",
              "    .colab-df-convert {\n",
              "      background-color: #E8F0FE;\n",
              "      border: none;\n",
              "      border-radius: 50%;\n",
              "      cursor: pointer;\n",
              "      display: none;\n",
              "      fill: #1967D2;\n",
              "      height: 32px;\n",
              "      padding: 0 0 0 0;\n",
              "      width: 32px;\n",
              "    }\n",
              "\n",
              "    .colab-df-convert:hover {\n",
              "      background-color: #E2EBFA;\n",
              "      box-shadow: 0px 1px 2px rgba(60, 64, 67, 0.3), 0px 1px 3px 1px rgba(60, 64, 67, 0.15);\n",
              "      fill: #174EA6;\n",
              "    }\n",
              "\n",
              "    .colab-df-buttons div {\n",
              "      margin-bottom: 4px;\n",
              "    }\n",
              "\n",
              "    [theme=dark] .colab-df-convert {\n",
              "      background-color: #3B4455;\n",
              "      fill: #D2E3FC;\n",
              "    }\n",
              "\n",
              "    [theme=dark] .colab-df-convert:hover {\n",
              "      background-color: #434B5C;\n",
              "      box-shadow: 0px 1px 3px 1px rgba(0, 0, 0, 0.15);\n",
              "      filter: drop-shadow(0px 1px 2px rgba(0, 0, 0, 0.3));\n",
              "      fill: #FFFFFF;\n",
              "    }\n",
              "  </style>\n",
              "\n",
              "    <script>\n",
              "      const buttonEl =\n",
              "        document.querySelector('#df-eae667d7-796e-446e-be2a-f451539ae495 button.colab-df-convert');\n",
              "      buttonEl.style.display =\n",
              "        google.colab.kernel.accessAllowed ? 'block' : 'none';\n",
              "\n",
              "      async function convertToInteractive(key) {\n",
              "        const element = document.querySelector('#df-eae667d7-796e-446e-be2a-f451539ae495');\n",
              "        const dataTable =\n",
              "          await google.colab.kernel.invokeFunction('convertToInteractive',\n",
              "                                                    [key], {});\n",
              "        if (!dataTable) return;\n",
              "\n",
              "        const docLinkHtml = 'Like what you see? Visit the ' +\n",
              "          '<a target=\"_blank\" href=https://colab.research.google.com/notebooks/data_table.ipynb>data table notebook</a>'\n",
              "          + ' to learn more about interactive tables.';\n",
              "        element.innerHTML = '';\n",
              "        dataTable['output_type'] = 'display_data';\n",
              "        await google.colab.output.renderOutput(dataTable, element);\n",
              "        const docLink = document.createElement('div');\n",
              "        docLink.innerHTML = docLinkHtml;\n",
              "        element.appendChild(docLink);\n",
              "      }\n",
              "    </script>\n",
              "  </div>\n",
              "\n",
              "\n",
              "<div id=\"df-39fda64c-2299-4587-b830-93d2e38487cb\">\n",
              "  <button class=\"colab-df-quickchart\" onclick=\"quickchart('df-39fda64c-2299-4587-b830-93d2e38487cb')\"\n",
              "            title=\"Suggest charts\"\n",
              "            style=\"display:none;\">\n",
              "\n",
              "<svg xmlns=\"http://www.w3.org/2000/svg\" height=\"24px\"viewBox=\"0 0 24 24\"\n",
              "     width=\"24px\">\n",
              "    <g>\n",
              "        <path d=\"M19 3H5c-1.1 0-2 .9-2 2v14c0 1.1.9 2 2 2h14c1.1 0 2-.9 2-2V5c0-1.1-.9-2-2-2zM9 17H7v-7h2v7zm4 0h-2V7h2v10zm4 0h-2v-4h2v4z\"/>\n",
              "    </g>\n",
              "</svg>\n",
              "  </button>\n",
              "\n",
              "<style>\n",
              "  .colab-df-quickchart {\n",
              "      --bg-color: #E8F0FE;\n",
              "      --fill-color: #1967D2;\n",
              "      --hover-bg-color: #E2EBFA;\n",
              "      --hover-fill-color: #174EA6;\n",
              "      --disabled-fill-color: #AAA;\n",
              "      --disabled-bg-color: #DDD;\n",
              "  }\n",
              "\n",
              "  [theme=dark] .colab-df-quickchart {\n",
              "      --bg-color: #3B4455;\n",
              "      --fill-color: #D2E3FC;\n",
              "      --hover-bg-color: #434B5C;\n",
              "      --hover-fill-color: #FFFFFF;\n",
              "      --disabled-bg-color: #3B4455;\n",
              "      --disabled-fill-color: #666;\n",
              "  }\n",
              "\n",
              "  .colab-df-quickchart {\n",
              "    background-color: var(--bg-color);\n",
              "    border: none;\n",
              "    border-radius: 50%;\n",
              "    cursor: pointer;\n",
              "    display: none;\n",
              "    fill: var(--fill-color);\n",
              "    height: 32px;\n",
              "    padding: 0;\n",
              "    width: 32px;\n",
              "  }\n",
              "\n",
              "  .colab-df-quickchart:hover {\n",
              "    background-color: var(--hover-bg-color);\n",
              "    box-shadow: 0 1px 2px rgba(60, 64, 67, 0.3), 0 1px 3px 1px rgba(60, 64, 67, 0.15);\n",
              "    fill: var(--button-hover-fill-color);\n",
              "  }\n",
              "\n",
              "  .colab-df-quickchart-complete:disabled,\n",
              "  .colab-df-quickchart-complete:disabled:hover {\n",
              "    background-color: var(--disabled-bg-color);\n",
              "    fill: var(--disabled-fill-color);\n",
              "    box-shadow: none;\n",
              "  }\n",
              "\n",
              "  .colab-df-spinner {\n",
              "    border: 2px solid var(--fill-color);\n",
              "    border-color: transparent;\n",
              "    border-bottom-color: var(--fill-color);\n",
              "    animation:\n",
              "      spin 1s steps(1) infinite;\n",
              "  }\n",
              "\n",
              "  @keyframes spin {\n",
              "    0% {\n",
              "      border-color: transparent;\n",
              "      border-bottom-color: var(--fill-color);\n",
              "      border-left-color: var(--fill-color);\n",
              "    }\n",
              "    20% {\n",
              "      border-color: transparent;\n",
              "      border-left-color: var(--fill-color);\n",
              "      border-top-color: var(--fill-color);\n",
              "    }\n",
              "    30% {\n",
              "      border-color: transparent;\n",
              "      border-left-color: var(--fill-color);\n",
              "      border-top-color: var(--fill-color);\n",
              "      border-right-color: var(--fill-color);\n",
              "    }\n",
              "    40% {\n",
              "      border-color: transparent;\n",
              "      border-right-color: var(--fill-color);\n",
              "      border-top-color: var(--fill-color);\n",
              "    }\n",
              "    60% {\n",
              "      border-color: transparent;\n",
              "      border-right-color: var(--fill-color);\n",
              "    }\n",
              "    80% {\n",
              "      border-color: transparent;\n",
              "      border-right-color: var(--fill-color);\n",
              "      border-bottom-color: var(--fill-color);\n",
              "    }\n",
              "    90% {\n",
              "      border-color: transparent;\n",
              "      border-bottom-color: var(--fill-color);\n",
              "    }\n",
              "  }\n",
              "</style>\n",
              "\n",
              "  <script>\n",
              "    async function quickchart(key) {\n",
              "      const quickchartButtonEl =\n",
              "        document.querySelector('#' + key + ' button');\n",
              "      quickchartButtonEl.disabled = true;  // To prevent multiple clicks.\n",
              "      quickchartButtonEl.classList.add('colab-df-spinner');\n",
              "      try {\n",
              "        const charts = await google.colab.kernel.invokeFunction(\n",
              "            'suggestCharts', [key], {});\n",
              "      } catch (error) {\n",
              "        console.error('Error during call to suggestCharts:', error);\n",
              "      }\n",
              "      quickchartButtonEl.classList.remove('colab-df-spinner');\n",
              "      quickchartButtonEl.classList.add('colab-df-quickchart-complete');\n",
              "    }\n",
              "    (() => {\n",
              "      let quickchartButtonEl =\n",
              "        document.querySelector('#df-39fda64c-2299-4587-b830-93d2e38487cb button');\n",
              "      quickchartButtonEl.style.display =\n",
              "        google.colab.kernel.accessAllowed ? 'block' : 'none';\n",
              "    })();\n",
              "  </script>\n",
              "</div>\n",
              "    </div>\n",
              "  </div>\n"
            ],
            "application/vnd.google.colaboratory.intrinsic+json": {
              "type": "dataframe",
              "variable_name": "df",
              "summary": "{\n  \"name\": \"df\",\n  \"rows\": 2,\n  \"fields\": [\n    {\n      \"column\": 0,\n      \"properties\": {\n        \"dtype\": \"string\",\n        \"num_unique_values\": 2,\n        \"samples\": [\n          \"a\",\n          \"1\"\n        ],\n        \"semantic_type\": \"\",\n        \"description\": \"\"\n      }\n    },\n    {\n      \"column\": 1,\n      \"properties\": {\n        \"dtype\": \"string\",\n        \"num_unique_values\": 2,\n        \"samples\": [\n          \"b\",\n          \"2\"\n        ],\n        \"semantic_type\": \"\",\n        \"description\": \"\"\n      }\n    },\n    {\n      \"column\": 2,\n      \"properties\": {\n        \"dtype\": \"string\",\n        \"num_unique_values\": 2,\n        \"samples\": [\n          \"c\",\n          \"3\"\n        ],\n        \"semantic_type\": \"\",\n        \"description\": \"\"\n      }\n    }\n  ]\n}"
            }
          },
          "metadata": {},
          "execution_count": 10
        }
      ]
    },
    {
      "cell_type": "code",
      "source": [
        "try:\n",
        "    filename = '/content/OS_python_test/test_del.csv'\n",
        "    f = open(filename, 'r')\n",
        "    text = f.read()\n",
        "    f.close()\n",
        "except IOError:\n",
        "  print('Problem reading: ' + filename)"
      ],
      "metadata": {
        "id": "7d2sI4xu5FQi"
      },
      "execution_count": 11,
      "outputs": []
    },
    {
      "cell_type": "markdown",
      "source": [
        "## os.popen('commandLine', 'mode', bufsize)\n",
        "mode's default value is \"r\" which indicates reading. If the buffering value is set to 0, no buffering will take place. If the buffering value is 1, line buffering will be performed while accessing a file. If you specify the buffering value as an integer greater than 1, then buffering action will be performed with the indicated buffer size. If negative, the buffer size is the system default(default behavior)."
      ],
      "metadata": {
        "id": "dhbrsZHx9WkC"
      }
    },
    {
      "cell_type": "code",
      "source": [
        "os.getcwd()"
      ],
      "metadata": {
        "colab": {
          "base_uri": "https://localhost:8080/",
          "height": 35
        },
        "id": "jcIkhbnS-XQ8",
        "outputId": "65933a10-efa5-44c3-8869-bc4181fc5a0b"
      },
      "execution_count": 12,
      "outputs": [
        {
          "output_type": "execute_result",
          "data": {
            "text/plain": [
              "'/content/OS_python_test'"
            ],
            "application/vnd.google.colaboratory.intrinsic+json": {
              "type": "string"
            }
          },
          "metadata": {},
          "execution_count": 12
        }
      ]
    },
    {
      "cell_type": "code",
      "source": [
        "commandLine = \"mkdir nwdir\"\n",
        "mode = \"r\"\n",
        "b = os.popen(commandLine,mode,1)\n",
        "print ('Using commandLine, we created directory:', b)"
      ],
      "metadata": {
        "colab": {
          "base_uri": "https://localhost:8080/"
        },
        "id": "C85dAPiQ-Fks",
        "outputId": "77f64835-06e0-4023-83b9-e749f2f9d4bd"
      },
      "execution_count": 13,
      "outputs": [
        {
          "output_type": "stream",
          "name": "stdout",
          "text": [
            "Using commandLine, we created directory: <os._wrap_close object at 0x7c09f5eb6ce0>\n"
          ]
        }
      ]
    },
    {
      "cell_type": "code",
      "source": [
        "fileStream = os.popen(\"ls\")\n",
        "res = fileStream.read()\n",
        "print ('Using commandLine, we streamed the directories and files in the current directory:')\n",
        "print(res)"
      ],
      "metadata": {
        "colab": {
          "base_uri": "https://localhost:8080/"
        },
        "id": "cL09S6ZE-gkg",
        "outputId": "97647b22-4d5c-4b03-f5a7-e7b91d4077b9"
      },
      "execution_count": 14,
      "outputs": [
        {
          "output_type": "stream",
          "name": "stdout",
          "text": [
            "Using commandLine, we streamed the directories and files in the current directory:\n",
            "nwdir\n",
            "test_del.csv\n",
            "\n"
          ]
        }
      ]
    },
    {
      "cell_type": "markdown",
      "source": [
        "## Closing files"
      ],
      "metadata": {
        "id": "0oAfH3K_AL7R"
      }
    },
    {
      "cell_type": "code",
      "source": [
        "with open(\"test_file.txt\", \"w\") as file:\n",
        "    file.write(\"Your text goes here\")"
      ],
      "metadata": {
        "id": "Kq99KoWrBdV_"
      },
      "execution_count": 15,
      "outputs": []
    },
    {
      "cell_type": "code",
      "source": [
        "fd = \"/content/OS_python_test/test_file.txt\"\n",
        "file = open(fd, 'r')\n",
        "text = file.read()\n",
        "print(text)\n",
        "file.close() # os.close(file) gives error"
      ],
      "metadata": {
        "colab": {
          "base_uri": "https://localhost:8080/"
        },
        "id": "ESDQERjL-ghI",
        "outputId": "accd863e-da26-4a0f-fd7a-20191c699a96"
      },
      "execution_count": 16,
      "outputs": [
        {
          "output_type": "stream",
          "name": "stdout",
          "text": [
            "Your text goes here\n"
          ]
        }
      ]
    },
    {
      "cell_type": "markdown",
      "source": [
        "## Renaming files"
      ],
      "metadata": {
        "id": "qdrQgIkuox7J"
      }
    },
    {
      "cell_type": "code",
      "source": [
        "fd = \"/content/OS_python_test/test_file.txt\"\n",
        "os.rename(fd,'New_Name.txt')\n",
        "print('File renamed to: New_Name.txt')"
      ],
      "metadata": {
        "colab": {
          "base_uri": "https://localhost:8080/"
        },
        "id": "upghPy2Y-gdl",
        "outputId": "9620e001-416e-4bed-c32a-babed59284ba"
      },
      "execution_count": 17,
      "outputs": [
        {
          "output_type": "stream",
          "name": "stdout",
          "text": [
            "File renamed to: New_Name.txt\n"
          ]
        }
      ]
    },
    {
      "cell_type": "markdown",
      "source": [
        "## Checking if a file exists"
      ],
      "metadata": {
        "id": "KmZ8XXsRC4dk"
      }
    },
    {
      "cell_type": "code",
      "source": [
        "result = os.path.exists(\"/content/OS_python_test/test_file.txt\")\n",
        "result"
      ],
      "metadata": {
        "colab": {
          "base_uri": "https://localhost:8080/"
        },
        "id": "G_ycXV8b-gXa",
        "outputId": "7afa3b59-5fbb-4170-db27-68d527dc6661"
      },
      "execution_count": 18,
      "outputs": [
        {
          "output_type": "execute_result",
          "data": {
            "text/plain": [
              "False"
            ]
          },
          "metadata": {},
          "execution_count": 18
        }
      ]
    },
    {
      "cell_type": "markdown",
      "source": [
        "## Getting the file's size"
      ],
      "metadata": {
        "id": "wE-Cq3rODLcB"
      }
    },
    {
      "cell_type": "code",
      "source": [
        "size = os.path.getsize(\"/content/OS_python_test/New_Name.txt\")\n",
        "print(\"Size of the file is\", size,\" bytes.\")"
      ],
      "metadata": {
        "colab": {
          "base_uri": "https://localhost:8080/"
        },
        "id": "5tVD97Pc-gUY",
        "outputId": "da97d4f3-0abc-4fd2-ee39-84caa87f4a97"
      },
      "execution_count": 19,
      "outputs": [
        {
          "output_type": "stream",
          "name": "stdout",
          "text": [
            "Size of the file is 19  bytes.\n"
          ]
        }
      ]
    },
    {
      "cell_type": "markdown",
      "metadata": {
        "id": "hkHnfZuKIBb2"
      },
      "source": [
        "## Deleting Directory or Files"
      ]
    },
    {
      "cell_type": "code",
      "source": [
        "os.getcwd()"
      ],
      "metadata": {
        "colab": {
          "base_uri": "https://localhost:8080/",
          "height": 35
        },
        "id": "fFnO0daA1LVP",
        "outputId": "8a1f7c09-3de1-4a5c-a3f3-a0fec9b9ec23"
      },
      "execution_count": 20,
      "outputs": [
        {
          "output_type": "execute_result",
          "data": {
            "text/plain": [
              "'/content/OS_python_test'"
            ],
            "application/vnd.google.colaboratory.intrinsic+json": {
              "type": "string"
            }
          },
          "metadata": {},
          "execution_count": 20
        }
      ]
    },
    {
      "cell_type": "code",
      "source": [
        "os.chdir('../')\n",
        "os.getcwd()"
      ],
      "metadata": {
        "colab": {
          "base_uri": "https://localhost:8080/",
          "height": 35
        },
        "id": "jfuDQqWV1KaD",
        "outputId": "c21daaf9-f078-40bc-9a4c-a455ff4405c1"
      },
      "execution_count": 21,
      "outputs": [
        {
          "output_type": "execute_result",
          "data": {
            "text/plain": [
              "'/content'"
            ],
            "application/vnd.google.colaboratory.intrinsic+json": {
              "type": "string"
            }
          },
          "metadata": {},
          "execution_count": 21
        }
      ]
    },
    {
      "cell_type": "markdown",
      "source": [
        "For Files"
      ],
      "metadata": {
        "id": "2S4kACRf3-Fg"
      }
    },
    {
      "cell_type": "code",
      "source": [
        "File = 'test_del.csv'\n",
        "location = \"/content/OS_python_test/\"\n",
        "path = os.path.join(location, File)\n",
        "os.remove(path)\n",
        "print(\"File '% s' deleted\" % File)"
      ],
      "metadata": {
        "colab": {
          "base_uri": "https://localhost:8080/"
        },
        "id": "1FuZstTg3qQd",
        "outputId": "8f661d20-69d9-485f-95ef-08082fc058b1"
      },
      "execution_count": 22,
      "outputs": [
        {
          "output_type": "stream",
          "name": "stdout",
          "text": [
            "File 'test_del.csv' deleted\n"
          ]
        }
      ]
    },
    {
      "cell_type": "code",
      "execution_count": 23,
      "metadata": {
        "colab": {
          "base_uri": "https://localhost:8080/"
        },
        "id": "2b9rRimiHth2",
        "outputId": "2564e080-3c3a-489b-8202-c3c8718bde19"
      },
      "outputs": [
        {
          "output_type": "stream",
          "name": "stdout",
          "text": [
            "['nwdir', 'New_Name.txt']\n"
          ]
        }
      ],
      "source": [
        "directory = 'OS_python_test'\n",
        "location = \"/content/\"\n",
        "path = os.path.join(location, directory)\n",
        "print(os.listdir(path))"
      ]
    },
    {
      "cell_type": "code",
      "source": [
        "File = 'New_Name.txt'\n",
        "location = \"/content/OS_python_test/\"\n",
        "path = os.path.join(location, File)\n",
        "os.remove(path)\n",
        "print(\"File '% s' deleted\" % File)"
      ],
      "metadata": {
        "id": "C_uqBT8vFqxS",
        "colab": {
          "base_uri": "https://localhost:8080/"
        },
        "outputId": "73ca4d40-73ba-4803-a87f-879b0a204c3a"
      },
      "execution_count": 24,
      "outputs": [
        {
          "output_type": "stream",
          "name": "stdout",
          "text": [
            "File 'New_Name.txt' deleted\n"
          ]
        }
      ]
    },
    {
      "cell_type": "markdown",
      "source": [
        "For directories"
      ],
      "metadata": {
        "id": "3yLaNoRQ4A_m"
      }
    },
    {
      "cell_type": "code",
      "source": [
        "directory = 'nwdir'\n",
        "location = \"/content/OS_python_test\"\n",
        "path = os.path.join(location, directory)\n",
        "os.rmdir(path)\n",
        "print(\"Directory '% s' deleted\" % directory)"
      ],
      "metadata": {
        "colab": {
          "base_uri": "https://localhost:8080/"
        },
        "id": "v-uoMQ-xFSkY",
        "outputId": "c55a28fc-d74d-49dd-9d7c-cd0134d46399"
      },
      "execution_count": 25,
      "outputs": [
        {
          "output_type": "stream",
          "name": "stdout",
          "text": [
            "Directory 'nwdir' deleted\n"
          ]
        }
      ]
    },
    {
      "cell_type": "code",
      "source": [
        "directory = 'OS_python_test'\n",
        "location = \"/content/\"\n",
        "path = os.path.join(location, directory)\n",
        "os.rmdir(path)\n",
        "print(\"Directory '% s' deleted\" % directory)"
      ],
      "metadata": {
        "colab": {
          "base_uri": "https://localhost:8080/"
        },
        "id": "JFMk6MCKF-qU",
        "outputId": "b49bf5ea-187b-47b5-e5c3-2408a16507f7"
      },
      "execution_count": 26,
      "outputs": [
        {
          "output_type": "stream",
          "name": "stdout",
          "text": [
            "Directory 'OS_python_test' deleted\n"
          ]
        }
      ]
    },
    {
      "cell_type": "code",
      "source": [
        "directory = 'Final_Dir'\n",
        "location = \"/content/A/B/\"\n",
        "path = os.path.join(location, directory)\n",
        "os.rmdir(path)\n",
        "print(\"Directory '% s' deleted\" % directory)"
      ],
      "metadata": {
        "colab": {
          "base_uri": "https://localhost:8080/"
        },
        "id": "jL6gDHtrpEtU",
        "outputId": "7d0b0a2e-81c5-46a5-d503-6112a44f056e"
      },
      "execution_count": 27,
      "outputs": [
        {
          "output_type": "stream",
          "name": "stdout",
          "text": [
            "Directory 'Final_Dir' deleted\n"
          ]
        }
      ]
    },
    {
      "cell_type": "code",
      "source": [
        "directory = 'B'\n",
        "location = \"/content/A/\"\n",
        "path = os.path.join(location, directory)\n",
        "os.rmdir(path)\n",
        "print(\"Directory '% s' deleted\" % directory)"
      ],
      "metadata": {
        "id": "UCUq1ETMGLhL",
        "colab": {
          "base_uri": "https://localhost:8080/"
        },
        "outputId": "2b0e36a9-0d36-42de-bee2-9aa8f2eac87c"
      },
      "execution_count": 28,
      "outputs": [
        {
          "output_type": "stream",
          "name": "stdout",
          "text": [
            "Directory 'B' deleted\n"
          ]
        }
      ]
    },
    {
      "cell_type": "code",
      "source": [
        "directory = 'A'\n",
        "location = \"/content/\"\n",
        "path = os.path.join(location, directory)\n",
        "os.rmdir(path)\n",
        "print(\"Directory '% s' deleted\" % directory)"
      ],
      "metadata": {
        "colab": {
          "base_uri": "https://localhost:8080/"
        },
        "id": "mYeO5LYBpPci",
        "outputId": "0dc3279c-3730-4837-e1ce-c994a4220e35"
      },
      "execution_count": 29,
      "outputs": [
        {
          "output_type": "stream",
          "name": "stdout",
          "text": [
            "Directory 'A' deleted\n"
          ]
        }
      ]
    },
    {
      "cell_type": "code",
      "source": [],
      "metadata": {
        "id": "9lj6hDCppTeS"
      },
      "execution_count": null,
      "outputs": []
    }
  ],
  "metadata": {
    "colab": {
      "provenance": []
    },
    "kernelspec": {
      "display_name": "Python 3",
      "name": "python3"
    },
    "language_info": {
      "name": "python"
    }
  },
  "nbformat": 4,
  "nbformat_minor": 0
}